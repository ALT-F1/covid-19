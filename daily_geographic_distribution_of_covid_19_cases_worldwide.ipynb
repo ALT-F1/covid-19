{
  "nbformat": 4,
  "nbformat_minor": 0,
  "metadata": {
    "kernelspec": {
      "name": "python3",
      "display_name": "Python 3"
    },
    "colab": {
      "name": "daily_geographic_distribution_of_covid-19_cases_worldwide-v0.0.0.ipynb",
      "provenance": [],
      "collapsed_sections": []
    }
  },
  "cells": [
    {
      "cell_type": "markdown",
      "metadata": {
        "id": "wuPOJockkOtd",
        "colab_type": "text"
      },
      "source": [
        "# Display charts about the geographic distribution of COVID-19 cases worldwide\n",
        "\n",
        "\n",
        "> ECDC Dashboard : http://bit.ly/38Ysgum\n",
        "\n",
        "> Data source is \"today’s data on the geographic distribution of COVID-19 cases worldwide\": http://bit.ly/2U9YcGS"
      ]
    },
    {
      "cell_type": "code",
      "metadata": {
        "trusted": true,
        "id": "qie5vCvOGQNr",
        "colab_type": "code",
        "colab": {}
      },
      "source": [
        "# setup the python program\n",
        "import pandas as pd\n",
        "import numpy as np\n",
        "from plotly.offline import iplot\n",
        "import plotly.graph_objs as go\n",
        "from datetime import datetime, timedelta\n",
        "import locale\n",
        "locale.setlocale(locale.LC_ALL, '')\n",
        "import urllib.request, urllib.error"
      ],
      "execution_count": 0,
      "outputs": []
    },
    {
      "cell_type": "markdown",
      "metadata": {
        "id": "skvWxnmeeOtw",
        "colab_type": "text"
      },
      "source": [
        "# Load the LATEST data from the European Center for Disease Prevention and Control (ECDC)"
      ]
    },
    {
      "cell_type": "code",
      "metadata": {
        "id": "kIpPBjERVpxa",
        "colab_type": "code",
        "colab": {}
      },
      "source": [
        "def check_if_data_source_exists(url):\n",
        "  \"\"\"\n",
        "  check if an url exists\n",
        "  \"\"\"\n",
        "  url_exists = False\n",
        "  try:\n",
        "    conn = urllib.request.urlopen(url)\n",
        "  except urllib.error.HTTPError as e:\n",
        "      # Return code error (e.g. 404, 501, ...)\n",
        "      # ...\n",
        "      print('HTTPError: {}'.format(e.code))\n",
        "      url_exists = False\n",
        "  except urllib.error.URLError as e:\n",
        "      # Not an HTTP-specific error (e.g. connection refused)\n",
        "      # ...\n",
        "      print('URLError: {}'.format(e.reason))\n",
        "      url_exists = False\n",
        "  else:\n",
        "      # 200\n",
        "      # ...\n",
        "      print('The url exists')\n",
        "      url_exists = True\n",
        "  return url_exists"
      ],
      "execution_count": 0,
      "outputs": []
    },
    {
      "cell_type": "code",
      "metadata": {
        "id": "xgHiyT5sWG7P",
        "colab_type": "code",
        "colab": {}
      },
      "source": [
        "def find_latest_datasource(url):\n",
        "  \"\"\"\n",
        "  find the latest datasource starting today from the ECDC website\n",
        "\n",
        "  format of the url: \n",
        "    https://www.ecdc.europa.eu/sites/default/files/documents/COVID-19-geographic-disbtribution-worldwide-2020-03-17.xlsx\n",
        "    https://www.ecdc.europa.eu/sites/default/files/documents/COVID-19-geographic-disbtribution-worldwide-%latest_datasource_date%.xlsx\n",
        "\n",
        "  \"\"\"\n",
        "  is_found=False\n",
        "  i=-1\n",
        "  latest_datasource_date = (datetime.now() - timedelta(i)).strftime('%Y-%m-%d')\n",
        "  while is_found == False and i<5:\n",
        "    i += 1\n",
        "    latest_datasource_date = (datetime.now() - timedelta(i)).strftime('%Y-%m-%d')\n",
        "    \n",
        "    datasource_url = url.replace('%latest_datasource_date%', latest_datasource_date)\n",
        "    print(f'Search for this latest date: {latest_datasource_date}',\n",
        "          f'datasource_url: {datasource_url}')\n",
        "    is_found = check_if_data_source_exists(datasource_url)\n",
        "\n",
        "  if is_found == True:\n",
        "    print(f'Download the data until : {latest_datasource_date}')\n",
        "    return datasource_url\n",
        "  else:\n",
        "    return None"
      ],
      "execution_count": 0,
      "outputs": []
    },
    {
      "cell_type": "code",
      "metadata": {
        "id": "6eIOpLa3oAUp",
        "colab_type": "code",
        "outputId": "6401f8c0-ec85-429a-9304-793e5ac8eb27",
        "colab": {
          "base_uri": "https://localhost:8080/",
          "height": 72
        }
      },
      "source": [
        "# load the data\n",
        "datasource_url_template = \"https://www.ecdc.europa.eu/sites/default/files/documents/COVID-19-geographic-disbtribution-worldwide-%latest_datasource_date%.xlsx\"\n",
        "if datasource_url_template is None:\n",
        "  print(f'There is no datasource on the ECDC website. is https://www.ecdc.europa.eu down?')\n",
        "  exit\n",
        "datasource_url = find_latest_datasource(datasource_url_template)"
      ],
      "execution_count": 0,
      "outputs": [
        {
          "output_type": "stream",
          "text": [
            "Search for this latest date: 2020-03-17 datasource_url: https://www.ecdc.europa.eu/sites/default/files/documents/COVID-19-geographic-disbtribution-worldwide-2020-03-17.xlsx\n",
            "The url exists\n",
            "Download the data until : 2020-03-17\n"
          ],
          "name": "stdout"
        }
      ]
    },
    {
      "cell_type": "code",
      "metadata": {
        "trusted": true,
        "id": "qhf_nO3HGQN8",
        "colab_type": "code",
        "colab": {}
      },
      "source": [
        "df = pd.read_excel(datasource_url)"
      ],
      "execution_count": 0,
      "outputs": []
    },
    {
      "cell_type": "markdown",
      "metadata": {
        "id": "8hrUN3ojRC7B",
        "colab_type": "text"
      },
      "source": [
        "# What is the range of data that has been collected from the ECDC?"
      ]
    },
    {
      "cell_type": "code",
      "metadata": {
        "id": "6_r-FL0vQuZm",
        "colab_type": "code",
        "outputId": "db620dd0-6550-440c-b269-9d74286d67c0",
        "colab": {
          "base_uri": "https://localhost:8080/",
          "height": 72
        }
      },
      "source": [
        "start_date = df.DateRep.min().strftime(\"%b %d %Y\")\n",
        "end_date = df.DateRep.max().strftime(\"%b %d %Y\")\n",
        "\n",
        "print(\n",
        "    f'DATE RANGE:\\n',\n",
        "    f'start date : {start_date}\\n', \n",
        "    f'end date : {end_date}'\n",
        "      )"
      ],
      "execution_count": 0,
      "outputs": [
        {
          "output_type": "stream",
          "text": [
            "DATE RANGE:\n",
            " start date : Dec 31 2019\n",
            " end date : Mar 17 2020\n"
          ],
          "name": "stdout"
        }
      ]
    },
    {
      "cell_type": "markdown",
      "metadata": {
        "id": "SsiarKaserk5",
        "colab_type": "text"
      },
      "source": [
        "# Display Totals : Confirmed Cases and Deaths"
      ]
    },
    {
      "cell_type": "code",
      "metadata": {
        "id": "xm6f2_Bnev4Q",
        "colab_type": "code",
        "outputId": "91a2fd75-77c5-4af9-cf09-004bce04499a",
        "colab": {
          "base_uri": "https://localhost:8080/",
          "height": 382
        }
      },
      "source": [
        "cv19_countries_day = df.groupby(by=['DateRep','CountryExp']).sum()[['Cases','Deaths']]\n",
        "Total_confirmed = cv19_countries_day.groupby('DateRep').sum()[['Cases','Deaths']].sum()['Cases']\n",
        "Total_deaths = cv19_countries_day.groupby('DateRep').sum()[['Cases','Deaths']].sum()['Deaths']\n",
        "print(f\"{end_date}:\\n Total Confirmed Cases: {Total_confirmed:n}\\n Total Deaths: {Total_deaths:n}\")"
      ],
      "execution_count": 0,
      "outputs": [
        {
          "output_type": "error",
          "ename": "KeyError",
          "evalue": "ignored",
          "traceback": [
            "\u001b[0;31m---------------------------------------------------------------------------\u001b[0m",
            "\u001b[0;31mKeyError\u001b[0m                                  Traceback (most recent call last)",
            "\u001b[0;32m<ipython-input-11-c783dcab392c>\u001b[0m in \u001b[0;36m<module>\u001b[0;34m()\u001b[0m\n\u001b[0;32m----> 1\u001b[0;31m \u001b[0mcv19_countries_day\u001b[0m \u001b[0;34m=\u001b[0m \u001b[0mdf\u001b[0m\u001b[0;34m.\u001b[0m\u001b[0mgroupby\u001b[0m\u001b[0;34m(\u001b[0m\u001b[0mby\u001b[0m\u001b[0;34m=\u001b[0m\u001b[0;34m[\u001b[0m\u001b[0;34m'DateRep'\u001b[0m\u001b[0;34m,\u001b[0m\u001b[0;34m'CountryExp'\u001b[0m\u001b[0;34m]\u001b[0m\u001b[0;34m)\u001b[0m\u001b[0;34m.\u001b[0m\u001b[0msum\u001b[0m\u001b[0;34m(\u001b[0m\u001b[0;34m)\u001b[0m\u001b[0;34m[\u001b[0m\u001b[0;34m[\u001b[0m\u001b[0;34m'NewConfCases'\u001b[0m\u001b[0;34m,\u001b[0m\u001b[0;34m'NewDeaths'\u001b[0m\u001b[0;34m]\u001b[0m\u001b[0;34m]\u001b[0m\u001b[0;34m\u001b[0m\u001b[0;34m\u001b[0m\u001b[0m\n\u001b[0m\u001b[1;32m      2\u001b[0m \u001b[0mTotal_confirmed\u001b[0m \u001b[0;34m=\u001b[0m \u001b[0mcv19_countries_day\u001b[0m\u001b[0;34m.\u001b[0m\u001b[0mgroupby\u001b[0m\u001b[0;34m(\u001b[0m\u001b[0;34m'DateRep'\u001b[0m\u001b[0;34m)\u001b[0m\u001b[0;34m.\u001b[0m\u001b[0msum\u001b[0m\u001b[0;34m(\u001b[0m\u001b[0;34m)\u001b[0m\u001b[0;34m[\u001b[0m\u001b[0;34m[\u001b[0m\u001b[0;34m'NewConfCases'\u001b[0m\u001b[0;34m,\u001b[0m\u001b[0;34m'NewDeaths'\u001b[0m\u001b[0;34m]\u001b[0m\u001b[0;34m]\u001b[0m\u001b[0;34m.\u001b[0m\u001b[0msum\u001b[0m\u001b[0;34m(\u001b[0m\u001b[0;34m)\u001b[0m\u001b[0;34m[\u001b[0m\u001b[0;34m'NewConfCases'\u001b[0m\u001b[0;34m]\u001b[0m\u001b[0;34m\u001b[0m\u001b[0;34m\u001b[0m\u001b[0m\n\u001b[1;32m      3\u001b[0m \u001b[0mTotal_deaths\u001b[0m \u001b[0;34m=\u001b[0m \u001b[0mcv19_countries_day\u001b[0m\u001b[0;34m.\u001b[0m\u001b[0mgroupby\u001b[0m\u001b[0;34m(\u001b[0m\u001b[0;34m'DateRep'\u001b[0m\u001b[0;34m)\u001b[0m\u001b[0;34m.\u001b[0m\u001b[0msum\u001b[0m\u001b[0;34m(\u001b[0m\u001b[0;34m)\u001b[0m\u001b[0;34m[\u001b[0m\u001b[0;34m[\u001b[0m\u001b[0;34m'NewConfCases'\u001b[0m\u001b[0;34m,\u001b[0m\u001b[0;34m'NewDeaths'\u001b[0m\u001b[0;34m]\u001b[0m\u001b[0;34m]\u001b[0m\u001b[0;34m.\u001b[0m\u001b[0msum\u001b[0m\u001b[0;34m(\u001b[0m\u001b[0;34m)\u001b[0m\u001b[0;34m[\u001b[0m\u001b[0;34m'NewDeaths'\u001b[0m\u001b[0;34m]\u001b[0m\u001b[0;34m\u001b[0m\u001b[0;34m\u001b[0m\u001b[0m\n\u001b[1;32m      4\u001b[0m \u001b[0mprint\u001b[0m\u001b[0;34m(\u001b[0m\u001b[0;34mf\"{end_date}:\\n Total Confirmed Cases: {Total_confirmed:n}\\n Total Deaths: {Total_deaths:n}\"\u001b[0m\u001b[0;34m)\u001b[0m\u001b[0;34m\u001b[0m\u001b[0;34m\u001b[0m\u001b[0m\n",
            "\u001b[0;32m/usr/local/lib/python3.6/dist-packages/pandas/core/generic.py\u001b[0m in \u001b[0;36mgroupby\u001b[0;34m(self, by, axis, level, as_index, sort, group_keys, squeeze, observed, **kwargs)\u001b[0m\n\u001b[1;32m   7892\u001b[0m             \u001b[0msqueeze\u001b[0m\u001b[0;34m=\u001b[0m\u001b[0msqueeze\u001b[0m\u001b[0;34m,\u001b[0m\u001b[0;34m\u001b[0m\u001b[0;34m\u001b[0m\u001b[0m\n\u001b[1;32m   7893\u001b[0m             \u001b[0mobserved\u001b[0m\u001b[0;34m=\u001b[0m\u001b[0mobserved\u001b[0m\u001b[0;34m,\u001b[0m\u001b[0;34m\u001b[0m\u001b[0;34m\u001b[0m\u001b[0m\n\u001b[0;32m-> 7894\u001b[0;31m             \u001b[0;34m**\u001b[0m\u001b[0mkwargs\u001b[0m\u001b[0;34m\u001b[0m\u001b[0;34m\u001b[0m\u001b[0m\n\u001b[0m\u001b[1;32m   7895\u001b[0m         )\n\u001b[1;32m   7896\u001b[0m \u001b[0;34m\u001b[0m\u001b[0m\n",
            "\u001b[0;32m/usr/local/lib/python3.6/dist-packages/pandas/core/groupby/groupby.py\u001b[0m in \u001b[0;36mgroupby\u001b[0;34m(obj, by, **kwds)\u001b[0m\n\u001b[1;32m   2520\u001b[0m         \u001b[0;32mraise\u001b[0m \u001b[0mTypeError\u001b[0m\u001b[0;34m(\u001b[0m\u001b[0;34m\"invalid type: {}\"\u001b[0m\u001b[0;34m.\u001b[0m\u001b[0mformat\u001b[0m\u001b[0;34m(\u001b[0m\u001b[0mobj\u001b[0m\u001b[0;34m)\u001b[0m\u001b[0;34m)\u001b[0m\u001b[0;34m\u001b[0m\u001b[0;34m\u001b[0m\u001b[0m\n\u001b[1;32m   2521\u001b[0m \u001b[0;34m\u001b[0m\u001b[0m\n\u001b[0;32m-> 2522\u001b[0;31m     \u001b[0;32mreturn\u001b[0m \u001b[0mklass\u001b[0m\u001b[0;34m(\u001b[0m\u001b[0mobj\u001b[0m\u001b[0;34m,\u001b[0m \u001b[0mby\u001b[0m\u001b[0;34m,\u001b[0m \u001b[0;34m**\u001b[0m\u001b[0mkwds\u001b[0m\u001b[0;34m)\u001b[0m\u001b[0;34m\u001b[0m\u001b[0;34m\u001b[0m\u001b[0m\n\u001b[0m",
            "\u001b[0;32m/usr/local/lib/python3.6/dist-packages/pandas/core/groupby/groupby.py\u001b[0m in \u001b[0;36m__init__\u001b[0;34m(self, obj, keys, axis, level, grouper, exclusions, selection, as_index, sort, group_keys, squeeze, observed, **kwargs)\u001b[0m\n\u001b[1;32m    389\u001b[0m                 \u001b[0msort\u001b[0m\u001b[0;34m=\u001b[0m\u001b[0msort\u001b[0m\u001b[0;34m,\u001b[0m\u001b[0;34m\u001b[0m\u001b[0;34m\u001b[0m\u001b[0m\n\u001b[1;32m    390\u001b[0m                 \u001b[0mobserved\u001b[0m\u001b[0;34m=\u001b[0m\u001b[0mobserved\u001b[0m\u001b[0;34m,\u001b[0m\u001b[0;34m\u001b[0m\u001b[0;34m\u001b[0m\u001b[0m\n\u001b[0;32m--> 391\u001b[0;31m                 \u001b[0mmutated\u001b[0m\u001b[0;34m=\u001b[0m\u001b[0mself\u001b[0m\u001b[0;34m.\u001b[0m\u001b[0mmutated\u001b[0m\u001b[0;34m,\u001b[0m\u001b[0;34m\u001b[0m\u001b[0;34m\u001b[0m\u001b[0m\n\u001b[0m\u001b[1;32m    392\u001b[0m             )\n\u001b[1;32m    393\u001b[0m \u001b[0;34m\u001b[0m\u001b[0m\n",
            "\u001b[0;32m/usr/local/lib/python3.6/dist-packages/pandas/core/groupby/grouper.py\u001b[0m in \u001b[0;36m_get_grouper\u001b[0;34m(obj, key, axis, level, sort, observed, mutated, validate)\u001b[0m\n\u001b[1;32m    619\u001b[0m                 \u001b[0min_axis\u001b[0m\u001b[0;34m,\u001b[0m \u001b[0mname\u001b[0m\u001b[0;34m,\u001b[0m \u001b[0mlevel\u001b[0m\u001b[0;34m,\u001b[0m \u001b[0mgpr\u001b[0m \u001b[0;34m=\u001b[0m \u001b[0;32mFalse\u001b[0m\u001b[0;34m,\u001b[0m \u001b[0;32mNone\u001b[0m\u001b[0;34m,\u001b[0m \u001b[0mgpr\u001b[0m\u001b[0;34m,\u001b[0m \u001b[0;32mNone\u001b[0m\u001b[0;34m\u001b[0m\u001b[0;34m\u001b[0m\u001b[0m\n\u001b[1;32m    620\u001b[0m             \u001b[0;32melse\u001b[0m\u001b[0;34m:\u001b[0m\u001b[0;34m\u001b[0m\u001b[0;34m\u001b[0m\u001b[0m\n\u001b[0;32m--> 621\u001b[0;31m                 \u001b[0;32mraise\u001b[0m \u001b[0mKeyError\u001b[0m\u001b[0;34m(\u001b[0m\u001b[0mgpr\u001b[0m\u001b[0;34m)\u001b[0m\u001b[0;34m\u001b[0m\u001b[0;34m\u001b[0m\u001b[0m\n\u001b[0m\u001b[1;32m    622\u001b[0m         \u001b[0;32melif\u001b[0m \u001b[0misinstance\u001b[0m\u001b[0;34m(\u001b[0m\u001b[0mgpr\u001b[0m\u001b[0;34m,\u001b[0m \u001b[0mGrouper\u001b[0m\u001b[0;34m)\u001b[0m \u001b[0;32mand\u001b[0m \u001b[0mgpr\u001b[0m\u001b[0;34m.\u001b[0m\u001b[0mkey\u001b[0m \u001b[0;32mis\u001b[0m \u001b[0;32mnot\u001b[0m \u001b[0;32mNone\u001b[0m\u001b[0;34m:\u001b[0m\u001b[0;34m\u001b[0m\u001b[0;34m\u001b[0m\u001b[0m\n\u001b[1;32m    623\u001b[0m             \u001b[0;31m# Add key to exclusions\u001b[0m\u001b[0;34m\u001b[0m\u001b[0;34m\u001b[0m\u001b[0;34m\u001b[0m\u001b[0m\n",
            "\u001b[0;31mKeyError\u001b[0m: 'CountryExp'"
          ]
        }
      ]
    },
    {
      "cell_type": "markdown",
      "metadata": {
        "id": "kTZXhPfERRC5",
        "colab_type": "text"
      },
      "source": [
        "# Group the data by daily-New Confirmed Cases (WW)"
      ]
    },
    {
      "cell_type": "code",
      "metadata": {
        "id": "NTEPU7CBRUsJ",
        "colab_type": "code",
        "colab": {}
      },
      "source": [
        "cv19_countries_day_new_confirmed_cases = df.groupby(by=['DateRep'], as_index=False)['Cases'].sum()\n",
        "print(f'WW New Confirmed cases first-5 records:\\n\\n {cv19_countries_day_new_confirmed_cases.head(5)}')\n",
        "print(f'\\nWW New Confirmed cases last-5 records:\\n\\n {cv19_countries_day_new_confirmed_cases.tail(5)}')"
      ],
      "execution_count": 0,
      "outputs": []
    },
    {
      "cell_type": "markdown",
      "metadata": {
        "id": "yc1jubCxf3d2",
        "colab_type": "text"
      },
      "source": [
        "# Group the data by daily Deaths (WW)"
      ]
    },
    {
      "cell_type": "code",
      "metadata": {
        "id": "cAd_-14GcAKk",
        "colab_type": "code",
        "colab": {}
      },
      "source": [
        "cv19_countries_day_new_deaths = df.groupby(by=['DateRep'], as_index=False)['Deaths'].sum()\n",
        "print(f'WW New Deaths first-5 records:\\n\\n {cv19_countries_day_new_deaths.head(5)}')\n",
        "print(f'nWW New Deaths last-5 records:\\n\\n {cv19_countries_day_new_deaths.tail(5)}')"
      ],
      "execution_count": 0,
      "outputs": []
    },
    {
      "cell_type": "markdown",
      "metadata": {
        "id": "HR8wAWsLf_O3",
        "colab_type": "text"
      },
      "source": [
        "# Draw a chart with daily New Confirmed Cases and Deaths"
      ]
    },
    {
      "cell_type": "code",
      "metadata": {
        "id": "ayeoT2tkWZvP",
        "colab_type": "code",
        "colab": {}
      },
      "source": [
        "data = [\n",
        "        go.Scatter(\n",
        "        name=\"WW New Confirmed cases\",\n",
        "        x=cv19_countries_day_new_confirmed_cases['DateRep'],\n",
        "        y=cv19_countries_day_new_confirmed_cases['Cases']\n",
        "        ),\n",
        "        go.Scatter(\n",
        "        name=\"WW New Deaths\",\n",
        "        x=cv19_countries_day_new_deaths['DateRep'],\n",
        "        y=cv19_countries_day_new_deaths['Deaths']\n",
        "        ),\n",
        "]\n",
        "\n",
        "# plot titles and axis labels\n",
        "layout = go.Layout(\n",
        "    title=f'Worldwide New Confirmed cases and Deaths',\n",
        "    xaxis=dict(\n",
        "        title='Date'\n",
        "    ),\n",
        "    yaxis=dict(\n",
        "        title='New Confirmed cases/New Deaths'\n",
        "    )\n",
        ")\n",
        "\n",
        "# plot the Figure object using the 'iplot' method\n",
        "fig = go.Figure(data=data, layout=layout)\n",
        "iplot(fig)\n"
      ],
      "execution_count": 0,
      "outputs": []
    },
    {
      "cell_type": "markdown",
      "metadata": {
        "id": "wzsgp2bagTOC",
        "colab_type": "text"
      },
      "source": [
        "# Build charts to compare two countries: Italy and Belgium"
      ]
    },
    {
      "cell_type": "code",
      "metadata": {
        "trusted": true,
        "id": "tEaeGWVYGQOi",
        "colab_type": "code",
        "colab": {}
      },
      "source": [
        "df_italy = df[df.CountryExp==\"Italy\"]\n",
        "df_belgium = df[df.CountryExp==\"Belgium\"]"
      ],
      "execution_count": 0,
      "outputs": []
    },
    {
      "cell_type": "markdown",
      "metadata": {
        "id": "M_OYOKg_Kcd9",
        "colab_type": "text"
      },
      "source": [
        "# Draw a chart including New Confirmed Cases in Italy and Belgium\n",
        "\n",
        "## Some hints regarding the dynamic charts\n",
        "\n",
        "> functions are available on the top-left of the screen. Click on the buttons\n",
        "\n",
        "> the user can zoom in/zoom out\n",
        "\n",
        "> click on a legend e.g., new confirmed cases (on the right) and focus on one single dataset\n",
        "\n",
        "> click-and-drag your mouse to zoom on a dedicated area\n",
        "\n",
        "> double click on the chart to reset the zoom"
      ]
    },
    {
      "cell_type": "code",
      "metadata": {
        "id": "TThkpKw7I071",
        "colab_type": "code",
        "colab": {}
      },
      "source": [
        "# use the DataFrame columns for generating data\n",
        "data = [\n",
        "        go.Bar(\n",
        "        name=\"New Confirmed cases in Italy\",\n",
        "        x=df_italy['DateRep'],\n",
        "        y=df_italy['Cases']\n",
        "    ),\n",
        "    go.Bar(\n",
        "        name=\"New Confirmed cases in Belgium\",\n",
        "        x=df_belgium['DateRep'],\n",
        "        y=df_belgium['Cases']\n",
        "    )\n",
        "]\n",
        "\n",
        "# plot titles and axis labels\n",
        "layout = go.Layout(\n",
        "    title=f'New Confirmed cases in Belgium and in Italy',\n",
        "    xaxis=dict(\n",
        "        title='Date'\n",
        "    ),\n",
        "    yaxis=dict(\n",
        "        title='New confirmed cases'\n",
        "    )\n",
        ")\n",
        "\n",
        "# plot the Figure object using the 'iplot' method\n",
        "fig = go.Figure(data=data, layout=layout)\n",
        "iplot(fig)\n"
      ],
      "execution_count": 0,
      "outputs": []
    },
    {
      "cell_type": "markdown",
      "metadata": {
        "id": "ENwJgvFjIz8x",
        "colab_type": "text"
      },
      "source": [
        "# Draw a chart with daily deaths in Italy and Belgium  :-("
      ]
    },
    {
      "cell_type": "code",
      "metadata": {
        "trusted": true,
        "id": "Gvd88EKOGQPc",
        "colab_type": "code",
        "colab": {}
      },
      "source": [
        "# use the DataFrame columns for generating data\n",
        "data = [\n",
        "    go.Bar(\n",
        "        name=\"New deaths in Italy\",\n",
        "        x=df_italy['DateRep'],\n",
        "        y=df_italy['Deaths']\n",
        "    ),\n",
        "    go.Bar(\n",
        "        name=\"New deaths in Belgium\",\n",
        "        x=df_belgium['DateRep'],\n",
        "        y=df_belgium['Deaths']\n",
        "    )\n",
        "]\n",
        "\n",
        "# plot titles and axis labels\n",
        "layout = go.Layout(\n",
        "    title=f'New deaths in Italy and Belgium',\n",
        "    xaxis=dict(\n",
        "        title='Date'\n",
        "    ),\n",
        "    yaxis=dict(\n",
        "        title='New deaths'\n",
        "    )\n",
        ")\n",
        "\n",
        "# plot the Figure object using the 'iplot' method\n",
        "fig = go.Figure(data=data, layout=layout)\n",
        "iplot(fig)\n",
        "#fig.show(renderer='svg')\n"
      ],
      "execution_count": 0,
      "outputs": []
    },
    {
      "cell_type": "markdown",
      "metadata": {
        "id": "ixdD0hNinUYM",
        "colab_type": "text"
      },
      "source": [
        "# Are they Correlations between Italy and Belgium?"
      ]
    },
    {
      "cell_type": "code",
      "metadata": {
        "id": "zFWBpplOnf_o",
        "colab_type": "code",
        "colab": {}
      },
      "source": [
        "df_belgium.describe()\n",
        "df.columns"
      ],
      "execution_count": 0,
      "outputs": []
    },
    {
      "cell_type": "code",
      "metadata": {
        "id": "j3WP90P_ngFI",
        "colab_type": "code",
        "colab": {}
      },
      "source": [
        "df_italy.describe()\n",
        "df.columns"
      ],
      "execution_count": 0,
      "outputs": []
    },
    {
      "cell_type": "code",
      "metadata": {
        "id": "6tvejO5znaXW",
        "colab_type": "code",
        "colab": {}
      },
      "source": [
        "   \n",
        "df_belgium.corr(method='pearson')"
      ],
      "execution_count": 0,
      "outputs": []
    },
    {
      "cell_type": "code",
      "metadata": {
        "id": "sMzgTzqsovKq",
        "colab_type": "code",
        "colab": {}
      },
      "source": [
        "df_italy.corr(method='pearson')"
      ],
      "execution_count": 0,
      "outputs": []
    },
    {
      "cell_type": "markdown",
      "metadata": {
        "id": "TdqJdsi1haaY",
        "colab_type": "text"
      },
      "source": [
        "(c) 2010-2020 Abdelkrim Boujraf, alt-f1 sprl <http://www.alt-f1.be>, Abdelkrim Boujraf <http://www.alt-f1.be/literature.html>\n",
        "\n",
        "This work is licensed under a Creative Commons Attribution 4.0 International License: <http://creativecommons.org/licenses/by/4.0>\n",
        "\n",
        "* Share — copy and redistribute the material in any medium or format \n",
        "* Adapt — remix, transform, and build upon the material for any purpose, even commercially\n",
        "\n",
        "Vous êtes autorisé à <https://creativecommons.org/licenses/by/4.0/deed.fr>: \n",
        "\n",
        "* Partager : copier, distribuer et communiquer le matériel par tous moyens et sous tous formats\n",
        "* Adapter : remixer, transformer et créer à partir du matériel pour toute utilisation, y compris commerciale"
      ]
    }
  ]
}